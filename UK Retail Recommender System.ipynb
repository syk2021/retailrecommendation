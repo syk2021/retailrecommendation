{
 "cells": [
  {
   "cell_type": "code",
   "execution_count": 1,
   "id": "fbf28c03",
   "metadata": {},
   "outputs": [
    {
     "name": "stdout",
     "output_type": "stream",
     "text": [
      "<class 'pandas.core.frame.DataFrame'>\n",
      "RangeIndex: 541909 entries, 0 to 541908\n",
      "Data columns (total 8 columns):\n",
      " #   Column       Non-Null Count   Dtype         \n",
      "---  ------       --------------   -----         \n",
      " 0   InvoiceNo    541909 non-null  object        \n",
      " 1   StockCode    541909 non-null  object        \n",
      " 2   Description  540455 non-null  object        \n",
      " 3   Quantity     541909 non-null  int64         \n",
      " 4   InvoiceDate  541909 non-null  datetime64[ns]\n",
      " 5   UnitPrice    541909 non-null  float64       \n",
      " 6   CustomerID   406829 non-null  float64       \n",
      " 7   Country      541909 non-null  object        \n",
      "dtypes: datetime64[ns](1), float64(2), int64(1), object(4)\n",
      "memory usage: 33.1+ MB\n",
      "None\n"
     ]
    },
    {
     "data": {
      "text/html": [
       "<div>\n",
       "<style scoped>\n",
       "    .dataframe tbody tr th:only-of-type {\n",
       "        vertical-align: middle;\n",
       "    }\n",
       "\n",
       "    .dataframe tbody tr th {\n",
       "        vertical-align: top;\n",
       "    }\n",
       "\n",
       "    .dataframe thead th {\n",
       "        text-align: right;\n",
       "    }\n",
       "</style>\n",
       "<table border=\"1\" class=\"dataframe\">\n",
       "  <thead>\n",
       "    <tr style=\"text-align: right;\">\n",
       "      <th></th>\n",
       "      <th>InvoiceNo</th>\n",
       "      <th>StockCode</th>\n",
       "      <th>Description</th>\n",
       "      <th>Quantity</th>\n",
       "      <th>InvoiceDate</th>\n",
       "      <th>UnitPrice</th>\n",
       "      <th>CustomerID</th>\n",
       "      <th>Country</th>\n",
       "    </tr>\n",
       "  </thead>\n",
       "  <tbody>\n",
       "    <tr>\n",
       "      <th>0</th>\n",
       "      <td>536365</td>\n",
       "      <td>85123A</td>\n",
       "      <td>WHITE HANGING HEART T-LIGHT HOLDER</td>\n",
       "      <td>6</td>\n",
       "      <td>2010-12-01 08:26:00</td>\n",
       "      <td>2.55</td>\n",
       "      <td>17850.0</td>\n",
       "      <td>United Kingdom</td>\n",
       "    </tr>\n",
       "    <tr>\n",
       "      <th>1</th>\n",
       "      <td>536365</td>\n",
       "      <td>71053</td>\n",
       "      <td>WHITE METAL LANTERN</td>\n",
       "      <td>6</td>\n",
       "      <td>2010-12-01 08:26:00</td>\n",
       "      <td>3.39</td>\n",
       "      <td>17850.0</td>\n",
       "      <td>United Kingdom</td>\n",
       "    </tr>\n",
       "    <tr>\n",
       "      <th>2</th>\n",
       "      <td>536365</td>\n",
       "      <td>84406B</td>\n",
       "      <td>CREAM CUPID HEARTS COAT HANGER</td>\n",
       "      <td>8</td>\n",
       "      <td>2010-12-01 08:26:00</td>\n",
       "      <td>2.75</td>\n",
       "      <td>17850.0</td>\n",
       "      <td>United Kingdom</td>\n",
       "    </tr>\n",
       "    <tr>\n",
       "      <th>3</th>\n",
       "      <td>536365</td>\n",
       "      <td>84029G</td>\n",
       "      <td>KNITTED UNION FLAG HOT WATER BOTTLE</td>\n",
       "      <td>6</td>\n",
       "      <td>2010-12-01 08:26:00</td>\n",
       "      <td>3.39</td>\n",
       "      <td>17850.0</td>\n",
       "      <td>United Kingdom</td>\n",
       "    </tr>\n",
       "    <tr>\n",
       "      <th>4</th>\n",
       "      <td>536365</td>\n",
       "      <td>84029E</td>\n",
       "      <td>RED WOOLLY HOTTIE WHITE HEART.</td>\n",
       "      <td>6</td>\n",
       "      <td>2010-12-01 08:26:00</td>\n",
       "      <td>3.39</td>\n",
       "      <td>17850.0</td>\n",
       "      <td>United Kingdom</td>\n",
       "    </tr>\n",
       "  </tbody>\n",
       "</table>\n",
       "</div>"
      ],
      "text/plain": [
       "  InvoiceNo StockCode                          Description  Quantity  \\\n",
       "0    536365    85123A   WHITE HANGING HEART T-LIGHT HOLDER         6   \n",
       "1    536365     71053                  WHITE METAL LANTERN         6   \n",
       "2    536365    84406B       CREAM CUPID HEARTS COAT HANGER         8   \n",
       "3    536365    84029G  KNITTED UNION FLAG HOT WATER BOTTLE         6   \n",
       "4    536365    84029E       RED WOOLLY HOTTIE WHITE HEART.         6   \n",
       "\n",
       "          InvoiceDate  UnitPrice  CustomerID         Country  \n",
       "0 2010-12-01 08:26:00       2.55     17850.0  United Kingdom  \n",
       "1 2010-12-01 08:26:00       3.39     17850.0  United Kingdom  \n",
       "2 2010-12-01 08:26:00       2.75     17850.0  United Kingdom  \n",
       "3 2010-12-01 08:26:00       3.39     17850.0  United Kingdom  \n",
       "4 2010-12-01 08:26:00       3.39     17850.0  United Kingdom  "
      ]
     },
     "execution_count": 1,
     "metadata": {},
     "output_type": "execute_result"
    }
   ],
   "source": [
    "# UK Retail Recommender System\n",
    "# Data source: https://www.kaggle.com/carrie1/ecommerce-data\n",
    "\n",
    "%matplotlib inline\n",
    "\n",
    "import pandas as pd\n",
    "import numpy as np\n",
    "import matplotlib.pyplot as plt\n",
    "\n",
    "import warnings\n",
    "warnings.filterwarnings(\"ignore\")\n",
    "\n",
    "df = pd.read_csv(\"./data/retaildata.csv\")\n",
    "\n",
    "df['InvoiceDate'] = pd.to_datetime(df['InvoiceDate'], format=\"%m/%d/%Y %H:%M\")\n",
    "print(df.info())\n",
    "df.head()"
   ]
  },
  {
   "cell_type": "code",
   "execution_count": 3,
   "id": "a1f7107b",
   "metadata": {},
   "outputs": [
    {
     "data": {
      "text/plain": [
       "InvoiceNo           0\n",
       "StockCode           0\n",
       "Description      1454\n",
       "Quantity            0\n",
       "InvoiceDate         0\n",
       "UnitPrice           0\n",
       "CustomerID     135080\n",
       "Country             0\n",
       "dtype: int64"
      ]
     },
     "execution_count": 3,
     "metadata": {},
     "output_type": "execute_result"
    }
   ],
   "source": [
    "# Eliminate NA data\n",
    "df.isnull().sum()"
   ]
  },
  {
   "cell_type": "code",
   "execution_count": 4,
   "id": "220fa24b",
   "metadata": {},
   "outputs": [
    {
     "name": "stdout",
     "output_type": "stream",
     "text": [
      "(406829, 8)\n"
     ]
    }
   ],
   "source": [
    "df = df.dropna()\n",
    "print(df.shape)"
   ]
  },
  {
   "cell_type": "code",
   "execution_count": 6,
   "id": "4b98747b",
   "metadata": {},
   "outputs": [
    {
     "name": "stdout",
     "output_type": "stream",
     "text": [
      "0\n",
      "40\n",
      "1414\n"
     ]
    },
    {
     "data": {
      "text/html": [
       "<div>\n",
       "<style scoped>\n",
       "    .dataframe tbody tr th:only-of-type {\n",
       "        vertical-align: middle;\n",
       "    }\n",
       "\n",
       "    .dataframe tbody tr th {\n",
       "        vertical-align: top;\n",
       "    }\n",
       "\n",
       "    .dataframe thead th {\n",
       "        text-align: right;\n",
       "    }\n",
       "</style>\n",
       "<table border=\"1\" class=\"dataframe\">\n",
       "  <thead>\n",
       "    <tr style=\"text-align: right;\">\n",
       "      <th></th>\n",
       "      <th>InvoiceNo</th>\n",
       "      <th>StockCode</th>\n",
       "      <th>Description</th>\n",
       "      <th>Quantity</th>\n",
       "      <th>InvoiceDate</th>\n",
       "      <th>UnitPrice</th>\n",
       "      <th>CustomerID</th>\n",
       "      <th>Country</th>\n",
       "      <th>ContainDigit</th>\n",
       "    </tr>\n",
       "  </thead>\n",
       "  <tbody>\n",
       "    <tr>\n",
       "      <th>45</th>\n",
       "      <td>536370</td>\n",
       "      <td>POST</td>\n",
       "      <td>POSTAGE</td>\n",
       "      <td>3</td>\n",
       "      <td>2010-12-01 08:45:00</td>\n",
       "      <td>18.00</td>\n",
       "      <td>12583.0</td>\n",
       "      <td>France</td>\n",
       "      <td>False</td>\n",
       "    </tr>\n",
       "    <tr>\n",
       "      <th>386</th>\n",
       "      <td>536403</td>\n",
       "      <td>POST</td>\n",
       "      <td>POSTAGE</td>\n",
       "      <td>1</td>\n",
       "      <td>2010-12-01 11:27:00</td>\n",
       "      <td>15.00</td>\n",
       "      <td>12791.0</td>\n",
       "      <td>Netherlands</td>\n",
       "      <td>False</td>\n",
       "    </tr>\n",
       "    <tr>\n",
       "      <th>1123</th>\n",
       "      <td>536527</td>\n",
       "      <td>POST</td>\n",
       "      <td>POSTAGE</td>\n",
       "      <td>1</td>\n",
       "      <td>2010-12-01 13:04:00</td>\n",
       "      <td>18.00</td>\n",
       "      <td>12662.0</td>\n",
       "      <td>Germany</td>\n",
       "      <td>False</td>\n",
       "    </tr>\n",
       "    <tr>\n",
       "      <th>2239</th>\n",
       "      <td>536569</td>\n",
       "      <td>M</td>\n",
       "      <td>Manual</td>\n",
       "      <td>1</td>\n",
       "      <td>2010-12-01 15:35:00</td>\n",
       "      <td>1.25</td>\n",
       "      <td>16274.0</td>\n",
       "      <td>United Kingdom</td>\n",
       "      <td>False</td>\n",
       "    </tr>\n",
       "    <tr>\n",
       "      <th>2250</th>\n",
       "      <td>536569</td>\n",
       "      <td>M</td>\n",
       "      <td>Manual</td>\n",
       "      <td>1</td>\n",
       "      <td>2010-12-01 15:35:00</td>\n",
       "      <td>18.95</td>\n",
       "      <td>16274.0</td>\n",
       "      <td>United Kingdom</td>\n",
       "      <td>False</td>\n",
       "    </tr>\n",
       "  </tbody>\n",
       "</table>\n",
       "</div>"
      ],
      "text/plain": [
       "     InvoiceNo StockCode Description  Quantity         InvoiceDate  UnitPrice  \\\n",
       "45      536370      POST     POSTAGE         3 2010-12-01 08:45:00      18.00   \n",
       "386     536403      POST     POSTAGE         1 2010-12-01 11:27:00      15.00   \n",
       "1123    536527      POST     POSTAGE         1 2010-12-01 13:04:00      18.00   \n",
       "2239    536569         M      Manual         1 2010-12-01 15:35:00       1.25   \n",
       "2250    536569         M      Manual         1 2010-12-01 15:35:00      18.95   \n",
       "\n",
       "      CustomerID         Country  ContainDigit  \n",
       "45       12583.0          France         False  \n",
       "386      12791.0     Netherlands         False  \n",
       "1123     12662.0         Germany         False  \n",
       "2239     16274.0  United Kingdom         False  \n",
       "2250     16274.0  United Kingdom         False  "
      ]
     },
     "execution_count": 6,
     "metadata": {},
     "output_type": "execute_result"
    }
   ],
   "source": [
    "# Eliminate nonpositive quantities\n",
    "print(df[df['Quantity']<=0].shape[0])\n",
    "df = df[df['Quantity']>0]\n",
    "\n",
    "# Eliminate nonpositive prices\n",
    "print(df[df['UnitPrice']<=0].shape[0])\n",
    "df = df[df['UnitPrice']>0]\n",
    "\n",
    "# Stock Code is supposed to be numeric, but there are some exceptions:\n",
    "df['ContainDigit'] = df['StockCode'].apply(lambda x: any(c.isdigit() for c in x))\n",
    "print(df[df['ContainDigit'] == False].shape[0])\n",
    "df[df['ContainDigit'] == False].head()"
   ]
  },
  {
   "cell_type": "code",
   "execution_count": 7,
   "id": "bd9f8739",
   "metadata": {},
   "outputs": [],
   "source": [
    "# Eliminate unusual Stock Codes\n",
    "df = df[df['ContainDigit'] == True]"
   ]
  },
  {
   "cell_type": "markdown",
   "id": "cec9b1ff",
   "metadata": {},
   "source": [
    "Objective: Which product can an e-commerce platform recommend to users who visit the platform near year-end?\n",
    "\n",
    "Project is three-fold:\n",
    "1) Use dataset until before year-end as the training dataset to predict user-purchase.\n",
    "2) Use real year-end dataset as the testing dataset.\n",
    "3) Compare the predicted user-purchase information from the model with the real purchase data to evaluate the recommender system."
   ]
  },
  {
   "cell_type": "code",
   "execution_count": 8,
   "id": "a4c977cf",
   "metadata": {},
   "outputs": [
    {
     "name": "stdout",
     "output_type": "stream",
     "text": [
      "2010-12-01\n",
      "2011-12-09\n"
     ]
    }
   ],
   "source": [
    "# Dataset is from 2010.12.01 to 2011.12.09\n",
    "df['date'] = df['InvoiceDate'].dt.date\n",
    "print(df['date'].min())\n",
    "print(df['date'].max())"
   ]
  },
  {
   "cell_type": "code",
   "execution_count": 11,
   "id": "1ec28493",
   "metadata": {},
   "outputs": [
    {
     "data": {
      "text/plain": [
       "Text(0.5, 1.0, 'Purchase Quantities by Date')"
      ]
     },
     "execution_count": 11,
     "metadata": {},
     "output_type": "execute_result"
    },
    {
     "data": {
      "image/png": "[encoded data removed]",
      "text/plain": [
       "<Figure size 432x288 with 1 Axes>"
      ]
     },
     "metadata": {
      "needs_background": "light"
     },
     "output_type": "display_data"
    }
   ],
   "source": [
    "# Examine purchase quantities\n",
    "date_quantity_series = df.groupby('date')['Quantity'].sum()\n",
    "date_quantity_series.plot()\n",
    "plt.title(\"Purchase Quantities by Date\")"
   ]
  },
  {
   "cell_type": "markdown",
   "id": "24aa42bc",
   "metadata": {},
   "source": [
    "Months with the most purchases seem to be December and February."
   ]
  },
  {
   "cell_type": "code",
   "execution_count": 15,
   "id": "9dd4a093",
   "metadata": {},
   "outputs": [
    {
     "data": {
      "text/plain": [
       "<AxesSubplot:xlabel='date'>"
      ]
     },
     "execution_count": 15,
     "metadata": {},
     "output_type": "execute_result"
    },
    {
     "data": {
      "image/png": "[encoded data removed]",
      "text/plain": [
       "<Figure size 432x288 with 1 Axes>"
      ]
     },
     "metadata": {
      "needs_background": "light"
     },
     "output_type": "display_data"
    }
   ],
   "source": [
    "# Examine transactions\n",
    "date_transaction_series = df.groupby('date')['InvoiceNo'].nunique()\n",
    "date_transaction_series.plot()"
   ]
  },
  {
   "cell_type": "markdown",
   "id": "564db374",
   "metadata": {},
   "source": [
    "Transactions increase as it gets closer to the year's end (December).\n",
    "This plot, along with the purchase quantity plot above, shows that there are more purchases and purchases become more frequent towards the year's end."
   ]
  },
  {
   "cell_type": "code",
   "execution_count": 14,
   "id": "73252f5b",
   "metadata": {},
   "outputs": [
    {
     "data": {
      "text/plain": [
       "<AxesSubplot:xlabel='date'>"
      ]
     },
     "execution_count": 14,
     "metadata": {},
     "output_type": "execute_result"
    },
    {
     "data": {
      "image/png": "[encoded data removed]",
      "text/plain": [
       "<Figure size 432x288 with 1 Axes>"
      ]
     },
     "metadata": {
      "needs_background": "light"
     },
     "output_type": "display_data"
    }
   ],
   "source": [
    "date_unique_item_series = df.groupby('date')['StockCode'].nunique()\n",
    "date_unique_item_series.plot()"
   ]
  },
  {
   "cell_type": "code",
   "execution_count": 16,
   "id": "dc641753",
   "metadata": {},
   "outputs": [
    {
     "name": "stdout",
     "output_type": "stream",
     "text": [
      "4334\n"
     ]
    }
   ],
   "source": [
    "# User analysis - there are 4334 users.\n",
    "print(len(df['CustomerID'].unique()))"
   ]
  },
  {
   "cell_type": "code",
   "execution_count": 17,
   "id": "3d5600e8",
   "metadata": {},
   "outputs": [
    {
     "data": {
      "text/plain": [
       "count    4334.000000\n",
       "mean        4.246654\n",
       "std         7.642535\n",
       "min         1.000000\n",
       "25%         1.000000\n",
       "50%         2.000000\n",
       "75%         5.000000\n",
       "max       206.000000\n",
       "Name: InvoiceNo, dtype: float64"
      ]
     },
     "execution_count": 17,
     "metadata": {},
     "output_type": "execute_result"
    }
   ],
   "source": [
    "# Purchases per user\n",
    "customer_unique_transaction_series = df.groupby('CustomerID')['InvoiceNo'].nunique()\n",
    "customer_unique_transaction_series.describe()"
   ]
  },
  {
   "cell_type": "markdown",
   "id": "0f93b17b",
   "metadata": {},
   "source": [
    "Users, on average, have 4.246654 purchases. Most users have 1 to 5 purchases (Q1 to Q3). "
   ]
  },
  {
   "cell_type": "code",
   "execution_count": 18,
   "id": "8f09a227",
   "metadata": {},
   "outputs": [
    {
     "data": {
      "image/png": "[encoded data removed]",
      "text/plain": [
       "<Figure size 432x288 with 1 Axes>"
      ]
     },
     "metadata": {
      "needs_background": "light"
     },
     "output_type": "display_data"
    }
   ],
   "source": [
    "# Visualization\n",
    "plt.boxplot(customer_unique_transaction_series.values)\n",
    "plt.show()"
   ]
  },
  {
   "cell_type": "markdown",
   "id": "64a829e5",
   "metadata": {},
   "source": [
    "There are, however, some extreme outliers, as shown by the boxplot."
   ]
  },
  {
   "cell_type": "code",
   "execution_count": 20,
   "id": "d6f5297a",
   "metadata": {},
   "outputs": [
    {
     "data": {
      "text/plain": [
       "count    4334.000000\n",
       "mean       61.432856\n",
       "std        85.312937\n",
       "min         1.000000\n",
       "25%        16.000000\n",
       "50%        35.000000\n",
       "75%        77.000000\n",
       "max      1786.000000\n",
       "Name: StockCode, dtype: float64"
      ]
     },
     "execution_count": 20,
     "metadata": {},
     "output_type": "execute_result"
    }
   ],
   "source": [
    "customer_unique_item_series = df.groupby('CustomerID')['StockCode'].nunique()\n",
    "customer_unique_item_series.describe()"
   ]
  },
  {
   "cell_type": "markdown",
   "id": "259403b9",
   "metadata": {},
   "source": [
    "Users, on average, purchased 61.432856 items. Most users purchase between 16 to 77 items. There is a very extreme outlier of 1786, which is also implied by the large standard deviation of 85.312937. This is also shown through the boxplot below."
   ]
  },
  {
   "cell_type": "code",
   "execution_count": 21,
   "id": "1e787f51",
   "metadata": {},
   "outputs": [
    {
     "data": {
      "image/png": "[encoded data removed]",
      "text/plain": [
       "<Figure size 432x288 with 1 Axes>"
      ]
     },
     "metadata": {
      "needs_background": "light"
     },
     "output_type": "display_data"
    }
   ],
   "source": [
    "# Visualization through boxplot\n",
    "plt.boxplot(customer_unique_item_series.values)\n",
    "plt.show()"
   ]
  },
  {
   "cell_type": "markdown",
   "id": "7504c7f0",
   "metadata": {},
   "source": [
    "As explained above, this dataset will be divided into training and testing datasets.\n",
    "The training dataset will include data until 2011.11.01. while testing data will include data from 2011.11.01."
   ]
  },
  {
   "cell_type": "code",
   "execution_count": 23,
   "id": "b04778de",
   "metadata": {},
   "outputs": [
    {
     "name": "stdout",
     "output_type": "stream",
     "text": [
      "(314902, 10)\n",
      "(81568, 10)\n"
     ]
    }
   ],
   "source": [
    "import datetime\n",
    "\n",
    "df_year_round = df[df['date'] < datetime.date(2011, 11, 1)]\n",
    "df_year_end = df[df['date'] >= datetime.date(2011, 11, 1)]\n",
    "print(df_year_round.shape)\n",
    "print(df_year_end.shape)"
   ]
  },
  {
   "cell_type": "code",
   "execution_count": 24,
   "id": "6746ee92",
   "metadata": {},
   "outputs": [
    {
     "name": "stdout",
     "output_type": "stream",
     "text": [
      "CustomerID\n",
      "12346.0                                              {23166}\n",
      "12347.0    {21791, 23170, 20782, 85178, 22697, 85167B, 22...\n",
      "12348.0    {21977, 22951, 21981, 21982, 21211, 23078, 226...\n",
      "12350.0    {20652, 22551, 22557, 79066K, 79191C, 22348, 8...\n",
      "12352.0    {22779, 22413, 84050, 22980, 22634, 21700, 220...\n",
      "                                 ...                        \n",
      "18280.0    {22467, 22499, 22495, 22611, 22727, 22084, 221...\n",
      "18281.0    {23209, 22716, 23007, 22028, 22467, 23008, 22037}\n",
      "18282.0    {23187, 22089, 21109, 23295, 21108, 22424, 21270}\n",
      "18283.0    {23253, 21791, 22951, 20725, 21982, 22895, 215...\n",
      "18287.0    {22114, 22065, 22865, 23267, 22419, 23378, 851...\n",
      "Name: StockCode, Length: 3970, dtype: object\n"
     ]
    }
   ],
   "source": [
    "customer_item_round_set = df_year_round.groupby('CustomerID')['StockCode'].apply(set)\n",
    "print(customer_item_round_set)"
   ]
  },
  {
   "cell_type": "code",
   "execution_count": 27,
   "id": "a8e8c0c9",
   "metadata": {},
   "outputs": [
    {
     "name": "stdout",
     "output_type": "stream",
     "text": [
      "{12346.0: {'23166': 'before'}, 12347.0: {'21791': 'before', '23170': 'before', '20782': 'before', '8...\n"
     ]
    }
   ],
   "source": [
    "# Dictionary of what users bought before November (represented by StockCode)\n",
    "customer_item_dict = {}\n",
    "\n",
    "# Mark purchases before November as \"before\"\n",
    "for customer_id, stocks in customer_item_round_set.items():\n",
    "    customer_item_dict[customer_id] = {}\n",
    "    for stock_code in stocks:\n",
    "        customer_item_dict[customer_id][stock_code] = 'before'\n",
    "\n",
    "# Print customer ids and print ... afterwards\n",
    "print(str(customer_item_dict)[:100] + \"...\")"
   ]
  },
  {
   "cell_type": "code",
   "execution_count": 28,
   "id": "717911da",
   "metadata": {},
   "outputs": [
    {
     "name": "stdout",
     "output_type": "stream",
     "text": [
      "CustomerID\n",
      "12347.0    {23508, 21064, 21731, 21265, 20719, 23506, 234...\n",
      "12349.0    {21563, 23253, 22556, 37500, 23273, 23514, 232...\n",
      "12352.0    {23096, 22668, 22624, 23559, 23367, 21669, 226...\n",
      "12356.0                                       {22423, 21843}\n",
      "12357.0    {72817, 23317, 37446, 23179, 21232, 21116, 220...\n",
      "                                 ...                        \n",
      "18272.0    {22074, 22969, 72799E, 22965, 22960, 72799C, 2...\n",
      "18273.0                                             {79302M}\n",
      "18274.0    {23245, 22851, 22720, 22989, 21108, 22423, 845...\n",
      "18282.0                  {23174, 22818, 22699, 22423, 23175}\n",
      "18283.0    {21791, 22951, 20725, 22738, 21982, 22382, 475...\n",
      "Name: StockCode, Length: 1904, dtype: object\n"
     ]
    }
   ],
   "source": [
    "# Dictionary of what users bought after November (represented by StockCode)\n",
    "customer_item_end_set = df_year_end.groupby('CustomerID')['StockCode'].apply(set)\n",
    "print(customer_item_end_set)"
   ]
  },
  {
   "cell_type": "code",
   "execution_count": 29,
   "id": "a857140a",
   "metadata": {},
   "outputs": [
    {
     "name": "stdout",
     "output_type": "stream",
     "text": [
      "{12346.0: {'23166': 'before'}, 12347.0: {'21791': 'before', '23170': 'before', '20782': 'before', '8...\n"
     ]
    }
   ],
   "source": [
    "# Mark products purchased before November as 'before', after November as 'after', and both as 'both'\n",
    "for customer_id, stocks in customer_item_end_set.items():\n",
    "    # if user has purchase history before November\n",
    "    if customer_id in customer_item_dict:\n",
    "        for stock_code in stocks:\n",
    "            # check if product was purchased before\n",
    "            if stock_code in customer_item_dict[customer_id]:\n",
    "                customer_item_dict[customer_id][stock_code] = 'both'\n",
    "            else:\n",
    "                customer_item_dict[customer_id][stock_code] = 'after'\n",
    "    else: # if user does NOT have purchase history before November\n",
    "        customer_item_dict[customer_id] = {}\n",
    "        for stock_code in stocks:\n",
    "            customer_item_dict[customer_id][stock_code] = 'new'\n",
    "\n",
    "print(str(customer_item_dict)[:100] + \"...\")"
   ]
  },
  {
   "cell_type": "code",
   "execution_count": 35,
   "id": "28bea785",
   "metadata": {},
   "outputs": [
    {
     "data": {
      "text/html": [
       "<div>\n",
       "<style scoped>\n",
       "    .dataframe tbody tr th:only-of-type {\n",
       "        vertical-align: middle;\n",
       "    }\n",
       "\n",
       "    .dataframe tbody tr th {\n",
       "        vertical-align: top;\n",
       "    }\n",
       "\n",
       "    .dataframe thead th {\n",
       "        text-align: right;\n",
       "    }\n",
       "</style>\n",
       "<table border=\"1\" class=\"dataframe\">\n",
       "  <thead>\n",
       "    <tr style=\"text-align: right;\">\n",
       "      <th></th>\n",
       "      <th>CustomerID</th>\n",
       "      <th>before</th>\n",
       "      <th>after</th>\n",
       "      <th>both</th>\n",
       "    </tr>\n",
       "  </thead>\n",
       "  <tbody>\n",
       "    <tr>\n",
       "      <th>0</th>\n",
       "      <td>12346.0</td>\n",
       "      <td>1.0</td>\n",
       "      <td>0.0</td>\n",
       "      <td>0.0</td>\n",
       "    </tr>\n",
       "    <tr>\n",
       "      <th>1</th>\n",
       "      <td>12347.0</td>\n",
       "      <td>92.0</td>\n",
       "      <td>3.0</td>\n",
       "      <td>8.0</td>\n",
       "    </tr>\n",
       "    <tr>\n",
       "      <th>2</th>\n",
       "      <td>12348.0</td>\n",
       "      <td>21.0</td>\n",
       "      <td>0.0</td>\n",
       "      <td>0.0</td>\n",
       "    </tr>\n",
       "    <tr>\n",
       "      <th>3</th>\n",
       "      <td>12350.0</td>\n",
       "      <td>16.0</td>\n",
       "      <td>0.0</td>\n",
       "      <td>0.0</td>\n",
       "    </tr>\n",
       "    <tr>\n",
       "      <th>4</th>\n",
       "      <td>12352.0</td>\n",
       "      <td>43.0</td>\n",
       "      <td>12.0</td>\n",
       "      <td>2.0</td>\n",
       "    </tr>\n",
       "  </tbody>\n",
       "</table>\n",
       "</div>"
      ],
      "text/plain": [
       "   CustomerID  before  after  both\n",
       "0     12346.0     1.0    0.0   0.0\n",
       "1     12347.0    92.0    3.0   8.0\n",
       "2     12348.0    21.0    0.0   0.0\n",
       "3     12350.0    16.0    0.0   0.0\n",
       "4     12352.0    43.0   12.0   2.0"
      ]
     },
     "execution_count": 35,
     "metadata": {},
     "output_type": "execute_result"
    }
   ],
   "source": [
    "# Convert purchase dictionary into dataframe\n",
    "columns = ['CustomerID', 'before', 'after', 'both']\n",
    "df_order_info = pd.DataFrame(columns=columns)\n",
    "\n",
    "for customer_id in customer_item_dict:\n",
    "    before = 0\n",
    "    after = 0\n",
    "    both = 0\n",
    "    \n",
    "    for stock_code in customer_item_dict[customer_id]:\n",
    "        status = customer_item_dict[customer_id][stock_code]\n",
    "        if status == 'before':\n",
    "            before += 1\n",
    "        elif status == 'after':\n",
    "            after += 1\n",
    "        else:\n",
    "            both += 1\n",
    "    # append data to df_order_info\n",
    "    row = [customer_id, before, after, both]\n",
    "    series = pd.Series(row, index=columns)\n",
    "    df_order_info = df_order_info.append(series, ignore_index=True)\n",
    "    \n",
    "df_order_info.head()"
   ]
  },
  {
   "cell_type": "code",
   "execution_count": 36,
   "id": "0416eb1d",
   "metadata": {},
   "outputs": [
    {
     "name": "stdout",
     "output_type": "stream",
     "text": [
      "4334\n",
      "1446\n",
      "1790\n"
     ]
    }
   ],
   "source": [
    "# Number of customers total\n",
    "print(df_order_info.shape[0])\n",
    "\n",
    "# before >= 1 && new >= 1 (customers who bought product that they have never bought before November after November)\n",
    "print(df_order_info[(df_order_info['before'] > 0) & (df_order_info['after'] > 0)].shape[0])\n",
    "\n",
    "# both >= 1 (customers who repurchased an item)\n",
    "print(df_order_info[df_order_info['both'] > 0].shape[0])"
   ]
  },
  {
   "cell_type": "markdown",
   "id": "a94f9176",
   "metadata": {},
   "source": [
    "There are 4334 customers total. 1446 customers have previous purchase history but bought a new product after December. 1790 customers have purchase history and repurchased the item that they bought before."
   ]
  },
  {
   "cell_type": "code",
   "execution_count": 38,
   "id": "56c05165",
   "metadata": {},
   "outputs": [
    {
     "name": "stdout",
     "output_type": "stream",
     "text": [
      "count    120.000000\n",
      "mean      12.075000\n",
      "std       16.766394\n",
      "min        1.000000\n",
      "25%        1.000000\n",
      "50%        4.000000\n",
      "75%       14.000000\n",
      "max       71.000000\n",
      "Name: after, dtype: float64\n"
     ]
    }
   ],
   "source": [
    "# Of the customers who bought items after November, how many items did they buy?\n",
    "print(df_order_info['after'].value_counts()[1:].describe())"
   ]
  },
  {
   "cell_type": "markdown",
   "id": "5c397b01",
   "metadata": {},
   "source": [
    "On average, customers purchased 12 items after November. The standard deviation, however, is 16.766394 and implies that the distribution is spread out. The median number of purchased items is 4, so customers did not buy many items after November."
   ]
  },
  {
   "cell_type": "code",
   "execution_count": 39,
   "id": "11cc7943",
   "metadata": {},
   "outputs": [
    {
     "name": "stdout",
     "output_type": "stream",
     "text": [
      "3970\n",
      "3608\n"
     ]
    }
   ],
   "source": [
    "# Recommender system is used for customers who have purchased an item before November\n",
    "# and uses products that were purchased before November.\n",
    "print(len(df_year_round['CustomerID'].unique()))\n",
    "print(len(df_year_round['StockCode'].unique()))"
   ]
  },
  {
   "cell_type": "markdown",
   "id": "fabac467",
   "metadata": {},
   "source": [
    "This recommendation system will involve 3970 customers and 3608 items."
   ]
  },
  {
   "cell_type": "markdown",
   "id": "0a13d733",
   "metadata": {},
   "source": [
    "This dataset does not have ratings that can be used in the Singular Value Decomposition (SVD) model, so feature engineering will be used to derive this information from the data."
   ]
  },
  {
   "cell_type": "code",
   "execution_count": 40,
   "id": "767de256",
   "metadata": {},
   "outputs": [
    {
     "data": {
      "text/html": [
       "<div>\n",
       "<style scoped>\n",
       "    .dataframe tbody tr th:only-of-type {\n",
       "        vertical-align: middle;\n",
       "    }\n",
       "\n",
       "    .dataframe tbody tr th {\n",
       "        vertical-align: top;\n",
       "    }\n",
       "\n",
       "    .dataframe thead th {\n",
       "        text-align: right;\n",
       "    }\n",
       "</style>\n",
       "<table border=\"1\" class=\"dataframe\">\n",
       "  <thead>\n",
       "    <tr style=\"text-align: right;\">\n",
       "      <th></th>\n",
       "      <th>CustomerID</th>\n",
       "      <th>StockCode</th>\n",
       "      <th>InvoiceNo</th>\n",
       "    </tr>\n",
       "  </thead>\n",
       "  <tbody>\n",
       "    <tr>\n",
       "      <th>0</th>\n",
       "      <td>12346.0</td>\n",
       "      <td>23166</td>\n",
       "      <td>1</td>\n",
       "    </tr>\n",
       "    <tr>\n",
       "      <th>1</th>\n",
       "      <td>12347.0</td>\n",
       "      <td>16008</td>\n",
       "      <td>1</td>\n",
       "    </tr>\n",
       "    <tr>\n",
       "      <th>2</th>\n",
       "      <td>12347.0</td>\n",
       "      <td>17021</td>\n",
       "      <td>1</td>\n",
       "    </tr>\n",
       "    <tr>\n",
       "      <th>3</th>\n",
       "      <td>12347.0</td>\n",
       "      <td>20665</td>\n",
       "      <td>1</td>\n",
       "    </tr>\n",
       "    <tr>\n",
       "      <th>4</th>\n",
       "      <td>12347.0</td>\n",
       "      <td>20719</td>\n",
       "      <td>3</td>\n",
       "    </tr>\n",
       "  </tbody>\n",
       "</table>\n",
       "</div>"
      ],
      "text/plain": [
       "   CustomerID StockCode  InvoiceNo\n",
       "0     12346.0     23166          1\n",
       "1     12347.0     16008          1\n",
       "2     12347.0     17021          1\n",
       "3     12347.0     20665          1\n",
       "4     12347.0     20719          3"
      ]
     },
     "execution_count": 40,
     "metadata": {},
     "output_type": "execute_result"
    }
   ],
   "source": [
    "# Examine user-item purchase history, create U-I-R dataframe\n",
    "uir_df = df_year_round.groupby(['CustomerID', 'StockCode'])['InvoiceNo'].nunique().reset_index()\n",
    "uir_df.head()"
   ]
  },
  {
   "cell_type": "code",
   "execution_count": 41,
   "id": "0a681bb3",
   "metadata": {},
   "outputs": [
    {
     "data": {
      "text/plain": [
       "<AxesSubplot:>"
      ]
     },
     "execution_count": 41,
     "metadata": {},
     "output_type": "execute_result"
    },
    {
     "data": {
      "image/png": "[encoded data removed]",
      "text/plain": [
       "<Figure size 432x288 with 1 Axes>"
      ]
     },
     "metadata": {
      "needs_background": "light"
     },
     "output_type": "display_data"
    }
   ],
   "source": [
    "# Visualization - Rating(Invoice No.) feature distribution\n",
    "uir_df['InvoiceNo'].hist(bins=20, grid=False)"
   ]
  },
  {
   "cell_type": "markdown",
   "id": "54ed3f6c",
   "metadata": {},
   "source": [
    "The exploratory data analysis section above confirmed that there are mostly 1 - 5 purchases per consumer, and this histogram confirms this notion. To apply the SVD model and fill the matrix, we will use log normalization."
   ]
  },
  {
   "cell_type": "code",
   "execution_count": 42,
   "id": "588b7c3d",
   "metadata": {},
   "outputs": [
    {
     "data": {
      "text/plain": [
       "<AxesSubplot:>"
      ]
     },
     "execution_count": 42,
     "metadata": {},
     "output_type": "execute_result"
    },
    {
     "data": {
      "image/png": "[encoded data removed]",
      "text/plain": [
       "<Figure size 432x288 with 1 Axes>"
      ]
     },
     "metadata": {
      "needs_background": "light"
     },
     "output_type": "display_data"
    }
   ],
   "source": [
    "# Log Normalization of Rating(InvoiceNo), and new histogram\n",
    "uir_df['InvoiceNo'].apply(lambda x: np.log10(x) + 1).hist(bins=20, grid=False)"
   ]
  },
  {
   "cell_type": "code",
   "execution_count": 44,
   "id": "6177a344",
   "metadata": {},
   "outputs": [],
   "source": [
    "# Feature scaling - max-min scaling\n",
    "uir_df['Rating'] = uir_df['InvoiceNo'].apply(lambda x:np.log10(x) + 1)\n",
    "uir_df['Rating'] = ((uir_df['Rating'] - uir_df['Rating'].min()) / (uir_df['Rating'].max() - uir_df['Rating'].min()) * 4) + 1"
   ]
  },
  {
   "cell_type": "code",
   "execution_count": 46,
   "id": "561055ef",
   "metadata": {},
   "outputs": [
    {
     "data": {
      "text/html": [
       "<div>\n",
       "<style scoped>\n",
       "    .dataframe tbody tr th:only-of-type {\n",
       "        vertical-align: middle;\n",
       "    }\n",
       "\n",
       "    .dataframe tbody tr th {\n",
       "        vertical-align: top;\n",
       "    }\n",
       "\n",
       "    .dataframe thead th {\n",
       "        text-align: right;\n",
       "    }\n",
       "</style>\n",
       "<table border=\"1\" class=\"dataframe\">\n",
       "  <thead>\n",
       "    <tr style=\"text-align: right;\">\n",
       "      <th></th>\n",
       "      <th>CustomerID</th>\n",
       "      <th>StockCode</th>\n",
       "      <th>Rating</th>\n",
       "    </tr>\n",
       "  </thead>\n",
       "  <tbody>\n",
       "    <tr>\n",
       "      <th>0</th>\n",
       "      <td>12346.0</td>\n",
       "      <td>23166</td>\n",
       "      <td>1.000000</td>\n",
       "    </tr>\n",
       "    <tr>\n",
       "      <th>1</th>\n",
       "      <td>12347.0</td>\n",
       "      <td>16008</td>\n",
       "      <td>1.000000</td>\n",
       "    </tr>\n",
       "    <tr>\n",
       "      <th>2</th>\n",
       "      <td>12347.0</td>\n",
       "      <td>17021</td>\n",
       "      <td>1.000000</td>\n",
       "    </tr>\n",
       "    <tr>\n",
       "      <th>3</th>\n",
       "      <td>12347.0</td>\n",
       "      <td>20665</td>\n",
       "      <td>1.000000</td>\n",
       "    </tr>\n",
       "    <tr>\n",
       "      <th>4</th>\n",
       "      <td>12347.0</td>\n",
       "      <td>20719</td>\n",
       "      <td>2.048881</td>\n",
       "    </tr>\n",
       "  </tbody>\n",
       "</table>\n",
       "</div>"
      ],
      "text/plain": [
       "   CustomerID StockCode    Rating\n",
       "0     12346.0     23166  1.000000\n",
       "1     12347.0     16008  1.000000\n",
       "2     12347.0     17021  1.000000\n",
       "3     12347.0     20665  1.000000\n",
       "4     12347.0     20719  2.048881"
      ]
     },
     "execution_count": 46,
     "metadata": {},
     "output_type": "execute_result"
    }
   ],
   "source": [
    "# Fill the U-I-R matrix\n",
    "uir_df = uir_df[['CustomerID', 'StockCode', 'Rating']]\n",
    "uir_df.head()"
   ]
  },
  {
   "cell_type": "code",
   "execution_count": 49,
   "id": "32255cfc",
   "metadata": {},
   "outputs": [
    {
     "name": "stdout",
     "output_type": "stream",
     "text": [
      "training time of model: 19.99 seconds\n",
      "RMSE of test dataset in SVD model:\n",
      "RMSE: 0.3328\n"
     ]
    },
    {
     "data": {
      "text/plain": [
       "0.33278236722177756"
      ]
     },
     "execution_count": 49,
     "metadata": {},
     "output_type": "execute_result"
    }
   ],
   "source": [
    "# Test the SVD model\n",
    "import time\n",
    "from surprise import SVD, Dataset, Reader, accuracy\n",
    "from surprise.model_selection import train_test_split\n",
    "\n",
    "reader = Reader(rating_scale=(1,5))\n",
    "data = Dataset.load_from_df(uir_df[['CustomerID', 'StockCode', 'Rating']], reader)\n",
    "train_data, test_data = train_test_split(data, test_size=0.2)\n",
    "\n",
    "# Train the SVD model\n",
    "train_start = time.time()\n",
    "model = SVD(n_factors=8, lr_all=0.005, reg_all=0.02, n_epochs=200)\n",
    "model.fit(train_data)\n",
    "train_end = time.time()\n",
    "print(\"training time of model: %.2f seconds\" % (train_end - train_start))\n",
    "\n",
    "predictions = model.test(test_data)\n",
    "\n",
    "# Print RMSE to evaluate model\n",
    "print(\"RMSE of test dataset in SVD model:\")\n",
    "accuracy.rmse(predictions)"
   ]
  },
  {
   "cell_type": "code",
   "execution_count": 50,
   "id": "330b876c",
   "metadata": {},
   "outputs": [],
   "source": [
    "# Create training data to use the SVD library. Use entire data before November as full trainset.\n",
    "reader = Reader(rating_scale=(1,5))\n",
    "data = Dataset.load_from_df(uir_df[['CustomerID', 'StockCode', 'Rating']], reader)\n",
    "train_data = data.build_full_trainset()\n",
    "\n",
    "# Fit the SVD model\n",
    "train_start = time.time()\n",
    "model = SVD(n_factors=8, lr_all=0.005, reg_all=0.02, n_epochs=200)\n",
    "model.fit(train_data)\n",
    "train_end = time.time()"
   ]
  },
  {
   "cell_type": "markdown",
   "id": "ece2a5c7",
   "metadata": {},
   "source": [
    "Based on the trained SVD model, items can be recommended.\n",
    "There will be 3 types of recommendations:\n",
    "1) Recommendation of an item that HAS NOT been bought before\n",
    "2) Recommendation of an item that HAS been bought before\n",
    "3) Recommendation of an item from all products, based on user-item ratings."
   ]
  },
  {
   "cell_type": "code",
   "execution_count": 53,
   "id": "0686f72e",
   "metadata": {},
   "outputs": [
    {
     "name": "stdout",
     "output_type": "stream",
     "text": [
      "{12346.0: {'16008': 1, '17021': 1.1729228427470788, '20665': 1, '20719': 1.304226641846802, '20780': 1, '20782': 1.1020227833110239, '20966': 1.0660366035901347, '21035': 1.1125087190767478, '21041': 1.0668490352690931, '21064': 1.2286440132369427, '21154': 1.0715812095022876, '21171': 1, '21265': 1...\n"
     ]
    }
   ],
   "source": [
    "# 1) Recommendation of an item that HAS NOT been bought before\n",
    "\n",
    "test_data = train_data.build_anti_testset()\n",
    "target_user_predictions = model.test(test_data)\n",
    "\n",
    "new_order_prediction_dict = {}\n",
    "for customer_id, stock_code, _, predicted_rating, _ in target_user_predictions:\n",
    "    if customer_id in new_order_prediction_dict:\n",
    "        if stock_code in new_order_prediction_dict[customer_id]:\n",
    "            pass\n",
    "        else:\n",
    "            new_order_prediction_dict[customer_id][stock_code] = predicted_rating\n",
    "    else:\n",
    "        new_order_prediction_dict[customer_id] = {}\n",
    "        new_order_prediction_dict[customer_id][stock_code] = predicted_rating\n",
    "        \n",
    "print(str(new_order_prediction_dict)[:300] + \"...\")"
   ]
  },
  {
   "cell_type": "code",
   "execution_count": 54,
   "id": "eb694f12",
   "metadata": {},
   "outputs": [
    {
     "name": "stdout",
     "output_type": "stream",
     "text": [
      "{12346.0: {'23166': 1.0405872861291314}, 12347.0: {'16008': 1.1486807767180045, '17021': 1.1752630397350394, '20665': 1.3191537279395738, '20719': 2.097534284794876, '20780': 1.3190245094926243, '20782': 1.1612980959715458, '20966': 1.2997955120352844, '21035': 1.2213051654315616, '21041': 1.4486300...\n"
     ]
    }
   ],
   "source": [
    "# 2) Recommendation of an item that HAS been bought before\n",
    "test_data = train_data.build_testset()\n",
    "target_user_predictions = model.test(test_data)\n",
    "\n",
    "reorder_prediction_dict = {}\n",
    "for customer_id, stock_code, _, predicted_rating, _ in target_user_predictions:\n",
    "    if customer_id in reorder_prediction_dict:\n",
    "        if stock_code in reorder_prediction_dict[customer_id]:\n",
    "            pass\n",
    "        else:\n",
    "            reorder_prediction_dict[customer_id][stock_code] = predicted_rating\n",
    "    else:\n",
    "        reorder_prediction_dict[customer_id] = {}\n",
    "        reorder_prediction_dict[customer_id][stock_code] = predicted_rating\n",
    "        \n",
    "print(str(reorder_prediction_dict)[:300] + \"...\")"
   ]
  },
  {
   "cell_type": "code",
   "execution_count": 56,
   "id": "d0d29e20",
   "metadata": {},
   "outputs": [
    {
     "name": "stdout",
     "output_type": "stream",
     "text": [
      "{12346.0: {'16008': 1, '17021': 1.1729228427470788, '20665': 1, '20719': 1.304226641846802, '20780': 1, '20782': 1.1020227833110239, '20966': 1.0660366035901347, '21035': 1.1125087190767478, '21041': 1.0668490352690931, '21064': 1.2286440132369427, '21154': 1.0715812095022876, '21171': 1, '21265': 1...\n"
     ]
    }
   ],
   "source": [
    "# 3) Recommendation of an item from all products, based on user-item ratings\n",
    "total_prediction_dict = {}\n",
    "\n",
    "for customer_id in new_order_prediction_dict:\n",
    "    if customer_id not in total_prediction_dict:\n",
    "        total_prediction_dict[customer_id] = {}\n",
    "        for stock_code, predicted_rating in new_order_prediction_dict[customer_id].items():\n",
    "            if stock_code not in total_prediction_dict[customer_id]:\n",
    "                total_prediction_dict[customer_id][stock_code] = predicted_rating\n",
    "\n",
    "for customer_id in reorder_prediction_dict:\n",
    "    if customer_id not in total_prediction_dict:\n",
    "        total_prediction_dict[customer_id] = {}\n",
    "    for stock_code, predicted_rating in reorder_prediction_dict[customer_id].items():\n",
    "        if stock_code not in total_prediction_dict[customer_id]:\n",
    "            total_prediction_dict[customer_id][stock_code] = predicted_rating\n",
    "            \n",
    "print(str(total_prediction_dict)[:300] + \"...\")"
   ]
  },
  {
   "cell_type": "code",
   "execution_count": 57,
   "id": "483990f1",
   "metadata": {},
   "outputs": [
    {
     "data": {
      "text/html": [
       "<div>\n",
       "<style scoped>\n",
       "    .dataframe tbody tr th:only-of-type {\n",
       "        vertical-align: middle;\n",
       "    }\n",
       "\n",
       "    .dataframe tbody tr th {\n",
       "        vertical-align: top;\n",
       "    }\n",
       "\n",
       "    .dataframe thead th {\n",
       "        text-align: right;\n",
       "    }\n",
       "</style>\n",
       "<table border=\"1\" class=\"dataframe\">\n",
       "  <thead>\n",
       "    <tr style=\"text-align: right;\">\n",
       "      <th></th>\n",
       "      <th>CustomerID</th>\n",
       "      <th>RealOrdered</th>\n",
       "    </tr>\n",
       "  </thead>\n",
       "  <tbody>\n",
       "    <tr>\n",
       "      <th>0</th>\n",
       "      <td>12347.0</td>\n",
       "      <td>{23508, 21064, 21731, 21265, 20719, 23506, 234...</td>\n",
       "    </tr>\n",
       "    <tr>\n",
       "      <th>1</th>\n",
       "      <td>12349.0</td>\n",
       "      <td>{21563, 23253, 22556, 37500, 23273, 23514, 232...</td>\n",
       "    </tr>\n",
       "    <tr>\n",
       "      <th>2</th>\n",
       "      <td>12352.0</td>\n",
       "      <td>{23096, 22668, 22624, 23559, 23367, 21669, 226...</td>\n",
       "    </tr>\n",
       "    <tr>\n",
       "      <th>3</th>\n",
       "      <td>12356.0</td>\n",
       "      <td>{22423, 21843}</td>\n",
       "    </tr>\n",
       "    <tr>\n",
       "      <th>4</th>\n",
       "      <td>12357.0</td>\n",
       "      <td>{72817, 23317, 37446, 23179, 21232, 21116, 220...</td>\n",
       "    </tr>\n",
       "  </tbody>\n",
       "</table>\n",
       "</div>"
      ],
      "text/plain": [
       "   CustomerID                                        RealOrdered\n",
       "0     12347.0  {23508, 21064, 21731, 21265, 20719, 23506, 234...\n",
       "1     12349.0  {21563, 23253, 22556, 37500, 23273, 23514, 232...\n",
       "2     12352.0  {23096, 22668, 22624, 23559, 23367, 21669, 226...\n",
       "3     12356.0                                     {22423, 21843}\n",
       "4     12357.0  {72817, 23317, 37446, 23179, 21232, 21116, 220..."
      ]
     },
     "execution_count": 57,
     "metadata": {},
     "output_type": "execute_result"
    }
   ],
   "source": [
    "# Create dataframe to test the simulation\n",
    "simulation_test_df = df_year_end.groupby('CustomerID')['StockCode'].apply(set).reset_index()\n",
    "simulation_test_df.columns = ['CustomerID', 'RealOrdered']\n",
    "simulation_test_df.head()"
   ]
  },
  {
   "cell_type": "code",
   "execution_count": 58,
   "id": "61df6381",
   "metadata": {},
   "outputs": [
    {
     "data": {
      "text/html": [
       "<div>\n",
       "<style scoped>\n",
       "    .dataframe tbody tr th:only-of-type {\n",
       "        vertical-align: middle;\n",
       "    }\n",
       "\n",
       "    .dataframe tbody tr th {\n",
       "        vertical-align: top;\n",
       "    }\n",
       "\n",
       "    .dataframe thead th {\n",
       "        text-align: right;\n",
       "    }\n",
       "</style>\n",
       "<table border=\"1\" class=\"dataframe\">\n",
       "  <thead>\n",
       "    <tr style=\"text-align: right;\">\n",
       "      <th></th>\n",
       "      <th>CustomerID</th>\n",
       "      <th>RealOrdered</th>\n",
       "      <th>PredictedOrder(New)</th>\n",
       "      <th>PredictedOrder(Reorder)</th>\n",
       "      <th>PredictedOrder(Total)</th>\n",
       "    </tr>\n",
       "  </thead>\n",
       "  <tbody>\n",
       "    <tr>\n",
       "      <th>0</th>\n",
       "      <td>12347.0</td>\n",
       "      <td>{23508, 21064, 21731, 21265, 20719, 23506, 234...</td>\n",
       "      <td>[22326, 22328, 22197, 84086B, 47421, 22556, 21...</td>\n",
       "      <td>[22726, 20719, 22727, 21731, 22728, 22729, 227...</td>\n",
       "      <td>[22326, 22726, 22328, 22197, 20719, 84086B, 22...</td>\n",
       "    </tr>\n",
       "    <tr>\n",
       "      <th>1</th>\n",
       "      <td>12349.0</td>\n",
       "      <td>{21563, 23253, 22556, 37500, 23273, 23514, 232...</td>\n",
       "      <td>None</td>\n",
       "      <td>None</td>\n",
       "      <td>None</td>\n",
       "    </tr>\n",
       "    <tr>\n",
       "      <th>2</th>\n",
       "      <td>12352.0</td>\n",
       "      <td>{23096, 22668, 22624, 23559, 23367, 21669, 226...</td>\n",
       "      <td>[84086B, 90119, 85131B, 85131D, 21326, 22133, ...</td>\n",
       "      <td>[37448, 21914, 22413, 22993, 22780, 22779, 840...</td>\n",
       "      <td>[84086B, 90119, 85131B, 85131D, 21326, 22133, ...</td>\n",
       "    </tr>\n",
       "    <tr>\n",
       "      <th>3</th>\n",
       "      <td>12356.0</td>\n",
       "      <td>{22423, 21843}</td>\n",
       "      <td>[84086B, 22727, 90042A, 85131B, 90035A, 90119,...</td>\n",
       "      <td>[22423, 21843, 37450, 22649, 22699, 21094, 210...</td>\n",
       "      <td>[84086B, 22727, 90042A, 85131B, 90035A, 90119,...</td>\n",
       "    </tr>\n",
       "    <tr>\n",
       "      <th>4</th>\n",
       "      <td>12357.0</td>\n",
       "      <td>{72817, 23317, 37446, 23179, 21232, 21116, 220...</td>\n",
       "      <td>None</td>\n",
       "      <td>None</td>\n",
       "      <td>None</td>\n",
       "    </tr>\n",
       "  </tbody>\n",
       "</table>\n",
       "</div>"
      ],
      "text/plain": [
       "   CustomerID                                        RealOrdered  \\\n",
       "0     12347.0  {23508, 21064, 21731, 21265, 20719, 23506, 234...   \n",
       "1     12349.0  {21563, 23253, 22556, 37500, 23273, 23514, 232...   \n",
       "2     12352.0  {23096, 22668, 22624, 23559, 23367, 21669, 226...   \n",
       "3     12356.0                                     {22423, 21843}   \n",
       "4     12357.0  {72817, 23317, 37446, 23179, 21232, 21116, 220...   \n",
       "\n",
       "                                 PredictedOrder(New)  \\\n",
       "0  [22326, 22328, 22197, 84086B, 47421, 22556, 21...   \n",
       "1                                               None   \n",
       "2  [84086B, 90119, 85131B, 85131D, 21326, 22133, ...   \n",
       "3  [84086B, 22727, 90042A, 85131B, 90035A, 90119,...   \n",
       "4                                               None   \n",
       "\n",
       "                             PredictedOrder(Reorder)  \\\n",
       "0  [22726, 20719, 22727, 21731, 22728, 22729, 227...   \n",
       "1                                               None   \n",
       "2  [37448, 21914, 22413, 22993, 22780, 22779, 840...   \n",
       "3  [22423, 21843, 37450, 22649, 22699, 21094, 210...   \n",
       "4                                               None   \n",
       "\n",
       "                               PredictedOrder(Total)  \n",
       "0  [22326, 22726, 22328, 22197, 20719, 84086B, 22...  \n",
       "1                                               None  \n",
       "2  [84086B, 90119, 85131B, 85131D, 21326, 22133, ...  \n",
       "3  [84086B, 22727, 90042A, 85131B, 90035A, 90119,...  \n",
       "4                                               None  "
      ]
     },
     "execution_count": 58,
     "metadata": {},
     "output_type": "execute_result"
    }
   ],
   "source": [
    "# Add simulation result to dataframe\n",
    "\n",
    "def add_predicted_stock_set(customer_id, prediction_dict):\n",
    "    if customer_id in prediction_dict:\n",
    "        predicted_stock_dict = prediction_dict[customer_id]\n",
    "        # sort by highest rating\n",
    "        sorted_stocks = sorted(predicted_stock_dict, key=lambda x : predicted_stock_dict[x], reverse=True)\n",
    "        return sorted_stocks\n",
    "    else:\n",
    "        return None\n",
    "    \n",
    "# add simulation result\n",
    "simulation_test_df['PredictedOrder(New)'] = simulation_test_df['CustomerID'].apply(lambda x: add_predicted_stock_set(x, new_order_prediction_dict))\n",
    "simulation_test_df['PredictedOrder(Reorder)'] = simulation_test_df['CustomerID'].apply(lambda x: add_predicted_stock_set(x, reorder_prediction_dict))\n",
    "simulation_test_df['PredictedOrder(Total)'] = simulation_test_df['CustomerID'].apply(lambda x: add_predicted_stock_set(x, total_prediction_dict))\n",
    "\n",
    "simulation_test_df.head()"
   ]
  },
  {
   "cell_type": "code",
   "execution_count": 59,
   "id": "e0122640",
   "metadata": {},
   "outputs": [],
   "source": [
    "# Above is the test dataset. This section evaluates how close the predictions were in the simulation to the real orders.\n",
    "def calculate_recall(real_order, predicted_order, k):\n",
    "    # if there are no recommendations\n",
    "    if predicted_order is None:\n",
    "        return None\n",
    "    \n",
    "    # SVD model predicts that user will purchase k items with the highest rating\n",
    "    predicted = predicted_order[:k]\n",
    "    true_positive = 0\n",
    "    for stock_code in predicted:\n",
    "        if stock_code in real_order:\n",
    "            true_positive += 1\n",
    "    \n",
    "    recall = true_positive / len(predicted)\n",
    "    return recall"
   ]
  },
  {
   "cell_type": "code",
   "execution_count": 61,
   "id": "a4c0d00d",
   "metadata": {},
   "outputs": [],
   "source": [
    "# Evaluate recommendations\n",
    "simulation_test_df['top_k_recall(Reorder)'] = simulation_test_df.apply(lambda x: calculate_recall(x['RealOrdered'], x['PredictedOrder(Reorder)'], 5), axis=1)\n",
    "simulation_test_df['top_k_recall(New)'] = simulation_test_df.apply(lambda x: calculate_recall(x['RealOrdered'], x['PredictedOrder(New)'], 5), axis=1)\n",
    "simulation_test_df['top_k_recall(Total)'] = simulation_test_df.apply(lambda x: calculate_recall(x['RealOrdered'], x['PredictedOrder(Total)'], 5), axis=1)"
   ]
  },
  {
   "cell_type": "code",
   "execution_count": 62,
   "id": "60f85a90",
   "metadata": {},
   "outputs": [
    {
     "name": "stdout",
     "output_type": "stream",
     "text": [
      "0.31035714285714094\n",
      "0.007272727272727272\n",
      "0.07350649350649374\n"
     ]
    }
   ],
   "source": [
    "print(simulation_test_df['top_k_recall(Reorder)'].mean())\n",
    "print(simulation_test_df['top_k_recall(New)'].mean())\n",
    "print(simulation_test_df['top_k_recall(Total)'].mean())"
   ]
  },
  {
   "cell_type": "markdown",
   "id": "9cf683e6",
   "metadata": {},
   "source": [
    "Recall is TP / (TP + FN), which represents how much of the true purchase the model predicted as true.\n",
    "\n",
    "On average, the model predicted 31% of reorders, 0.7% of new orders, and 7% of total orders. This recommendation system gives better results when recommending reorders instead of new orders."
   ]
  },
  {
   "cell_type": "code",
   "execution_count": 63,
   "id": "d187994c",
   "metadata": {},
   "outputs": [
    {
     "data": {
      "text/plain": [
       "0.000000    466\n",
       "0.200000    395\n",
       "0.400000    293\n",
       "0.600000    182\n",
       "0.800000    106\n",
       "1.000000     79\n",
       "0.500000      7\n",
       "0.250000      6\n",
       "0.666667      4\n",
       "0.750000      1\n",
       "0.333333      1\n",
       "Name: top_k_recall(Reorder), dtype: int64"
      ]
     },
     "execution_count": 63,
     "metadata": {},
     "output_type": "execute_result"
    }
   ],
   "source": [
    "# Reorder simulation details\n",
    "simulation_test_df['top_k_recall(Reorder)'].value_counts()"
   ]
  },
  {
   "cell_type": "markdown",
   "id": "f04cca0f",
   "metadata": {},
   "source": [
    "Recall of 0: 466 consumers are predicted to buy nothing with 5 recommendations.\n",
    "Recall of 0.2: 395 consumers are predicted to buy 1 item with 5 recommendations."
   ]
  },
  {
   "cell_type": "code",
   "execution_count": 64,
   "id": "6f12563f",
   "metadata": {},
   "outputs": [
    {
     "data": {
      "text/plain": [
       "0.0    1492\n",
       "0.2      40\n",
       "0.4       8\n",
       "Name: top_k_recall(New), dtype: int64"
      ]
     },
     "execution_count": 64,
     "metadata": {},
     "output_type": "execute_result"
    }
   ],
   "source": [
    "# New order simulation details\n",
    "simulation_test_df['top_k_recall(New)'].value_counts()"
   ]
  },
  {
   "cell_type": "markdown",
   "id": "966def22",
   "metadata": {},
   "source": [
    "Recall of 0: 1492 consumers are predicted to buy nothing with 5 recommendations.\n",
    "This implies that this is not an effective recommender system for new orders."
   ]
  },
  {
   "cell_type": "code",
   "execution_count": 65,
   "id": "6a81372a",
   "metadata": {},
   "outputs": [
    {
     "data": {
      "text/plain": [
       "0.0    1204\n",
       "0.2     193\n",
       "0.4      86\n",
       "0.6      36\n",
       "0.8      12\n",
       "1.0       9\n",
       "Name: top_k_recall(Total), dtype: int64"
      ]
     },
     "execution_count": 65,
     "metadata": {},
     "output_type": "execute_result"
    }
   ],
   "source": [
    "# Total order simulation details\n",
    "simulation_test_df['top_k_recall(Total)'].value_counts()"
   ]
  },
  {
   "cell_type": "markdown",
   "id": "f01556e9",
   "metadata": {},
   "source": [
    "Recall of 0: 1204 consumers are predicted to buy nothing with 5 recommendations.\n",
    "The details of three different recommendations confirm that reorder recommendations are the best simulation for this recommender system."
   ]
  },
  {
   "cell_type": "code",
   "execution_count": 66,
   "id": "7ddbacd0",
   "metadata": {},
   "outputs": [
    {
     "data": {
      "text/html": [
       "<div>\n",
       "<style scoped>\n",
       "    .dataframe tbody tr th:only-of-type {\n",
       "        vertical-align: middle;\n",
       "    }\n",
       "\n",
       "    .dataframe tbody tr th {\n",
       "        vertical-align: top;\n",
       "    }\n",
       "\n",
       "    .dataframe thead th {\n",
       "        text-align: right;\n",
       "    }\n",
       "</style>\n",
       "<table border=\"1\" class=\"dataframe\">\n",
       "  <thead>\n",
       "    <tr style=\"text-align: right;\">\n",
       "      <th></th>\n",
       "      <th>CustomerID</th>\n",
       "      <th>RealOrdered</th>\n",
       "      <th>PredictedOrder(Reorder)</th>\n",
       "      <th>top_k_recall(Reorder)</th>\n",
       "    </tr>\n",
       "  </thead>\n",
       "  <tbody>\n",
       "    <tr>\n",
       "      <th>1518</th>\n",
       "      <td>17107.0</td>\n",
       "      <td>{20725, 22697, 23188, 22382, 20685, 21164, 233...</td>\n",
       "      <td>[85123A, 22178, 48187, 20685, 85099B]</td>\n",
       "      <td>0.4</td>\n",
       "    </tr>\n",
       "    <tr>\n",
       "      <th>1378</th>\n",
       "      <td>16711.0</td>\n",
       "      <td>{22593, 35970, 23012, 21167, 85107, 23100, 224...</td>\n",
       "      <td>[22424, 15056N, 23013, 23188, 22425]</td>\n",
       "      <td>0.2</td>\n",
       "    </tr>\n",
       "    <tr>\n",
       "      <th>544</th>\n",
       "      <td>14044.0</td>\n",
       "      <td>{23265, 23273, 23263, 22338, 85123A, 22337, 23...</td>\n",
       "      <td>[20725, 85123A, 22383, 20727, 23206]</td>\n",
       "      <td>0.2</td>\n",
       "    </tr>\n",
       "    <tr>\n",
       "      <th>697</th>\n",
       "      <td>14525.0</td>\n",
       "      <td>{23102, 82483, 21682, 22800, 23571, 85123A, 22...</td>\n",
       "      <td>[85123A, 82482, 21754, 85099B, 22333]</td>\n",
       "      <td>0.6</td>\n",
       "    </tr>\n",
       "    <tr>\n",
       "      <th>1620</th>\n",
       "      <td>17419.0</td>\n",
       "      <td>{22112, 23340, 23355, 23284, 23571, 23499, 226...</td>\n",
       "      <td>[84879, 21314, 82482, 85123A, 84406B]</td>\n",
       "      <td>0.2</td>\n",
       "    </tr>\n",
       "  </tbody>\n",
       "</table>\n",
       "</div>"
      ],
      "text/plain": [
       "      CustomerID                                        RealOrdered  \\\n",
       "1518     17107.0  {20725, 22697, 23188, 22382, 20685, 21164, 233...   \n",
       "1378     16711.0  {22593, 35970, 23012, 21167, 85107, 23100, 224...   \n",
       "544      14044.0  {23265, 23273, 23263, 22338, 85123A, 22337, 23...   \n",
       "697      14525.0  {23102, 82483, 21682, 22800, 23571, 85123A, 22...   \n",
       "1620     17419.0  {22112, 23340, 23355, 23284, 23571, 23499, 226...   \n",
       "\n",
       "                    PredictedOrder(Reorder)  top_k_recall(Reorder)  \n",
       "1518  [85123A, 22178, 48187, 20685, 85099B]                    0.4  \n",
       "1378   [22424, 15056N, 23013, 23188, 22425]                    0.2  \n",
       "544    [20725, 85123A, 22383, 20727, 23206]                    0.2  \n",
       "697   [85123A, 82482, 21754, 85099B, 22333]                    0.6  \n",
       "1620  [84879, 21314, 82482, 85123A, 84406B]                    0.2  "
      ]
     },
     "execution_count": 66,
     "metadata": {},
     "output_type": "execute_result"
    }
   ],
   "source": [
    "# Summary of recommender system\n",
    "k = 5\n",
    "result_df = simulation_test_df[simulation_test_df['PredictedOrder(Reorder)'].notnull()]\n",
    "result_df['PredictedOrder(Reorder)'] = result_df['PredictedOrder(Reorder)'].apply(lambda x: x[:k])\n",
    "result_df = result_df[['CustomerID', 'RealOrdered', 'PredictedOrder(Reorder)', 'top_k_recall(Reorder)']]\n",
    "# See random sample of size 5 from the dataframe\n",
    "result_df.sample(5).head()"
   ]
  }
 ],
 "metadata": {
  "kernelspec": {
   "display_name": "Python 3",
   "language": "python",
   "name": "python3"
  },
  "language_info": {
   "codemirror_mode": {
    "name": "ipython",
    "version": 3
   },
   "file_extension": ".py",
   "mimetype": "text/x-python",
   "name": "python",
   "nbconvert_exporter": "python",
   "pygments_lexer": "ipython3",
   "version": "3.8.8"
  }
 },
 "nbformat": 4,
 "nbformat_minor": 5
}
